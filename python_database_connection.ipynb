{
 "cells": [
  {
   "cell_type": "markdown",
   "id": "46e8628c",
   "metadata": {},
   "source": [
    "# Import MYSQL connector"
   ]
  },
  {
   "cell_type": "code",
   "execution_count": 4,
   "id": "368d179c",
   "metadata": {},
   "outputs": [],
   "source": [
    "import mysql.connector as con"
   ]
  },
  {
   "cell_type": "markdown",
   "id": "fb8c48b2",
   "metadata": {},
   "source": [
    "# CONNECTION TO DATABASE"
   ]
  },
  {
   "cell_type": "code",
   "execution_count": 7,
   "id": "e90a8527",
   "metadata": {},
   "outputs": [
    {
     "name": "stdout",
     "output_type": "stream",
     "text": [
      "<mysql.connector.connection_cext.CMySQLConnection object at 0x000001826DDD9610>\n"
     ]
    }
   ],
   "source": [
    "new_db = con.connect(\n",
    "    host = \"localhost\",\n",
    "    user = \"root\",\n",
    "    password = \"root\"\n",
    ")\n",
    "print(new_db)"
   ]
  },
  {
   "cell_type": "markdown",
   "id": "7ed48112",
   "metadata": {},
   "source": [
    "# CREATE A DATABASE"
   ]
  },
  {
   "cell_type": "code",
   "execution_count": 11,
   "id": "5aeb83ef",
   "metadata": {},
   "outputs": [],
   "source": [
    "import mysql.connector as con\n",
    "new_db = con.connect(\n",
    "    host = \"localhost\",\n",
    "    user = \"root\",\n",
    "    password = \"root\"\n",
    ")\n",
    "my_cursor = new_db.cursor()\n",
    "my_cursor.execute(\"CREATE DATABASE college25\")"
   ]
  },
  {
   "cell_type": "markdown",
   "id": "7c21513c",
   "metadata": {},
   "source": [
    "# CHECK DATABASE CREATED OR NOT?"
   ]
  },
  {
   "cell_type": "code",
   "execution_count": 12,
   "id": "53f60ede",
   "metadata": {},
   "outputs": [
    {
     "name": "stdout",
     "output_type": "stream",
     "text": [
      "('college25',)\n",
      "('college28',)\n",
      "('information_schema',)\n",
      "('mysql',)\n",
      "('performance_schema',)\n",
      "('sakila',)\n",
      "('sys',)\n",
      "('world',)\n"
     ]
    }
   ],
   "source": [
    "new_db = con.connect(\n",
    "    host = \"localhost\",\n",
    "    user = \"root\",\n",
    "    password = \"root\"\n",
    ")\n",
    "my_cursor = new_db.cursor()\n",
    "my_cursor.execute(\"SHOW DATABASES\")\n",
    "for a in my_cursor:\n",
    "    print(a)"
   ]
  },
  {
   "cell_type": "markdown",
   "id": "e8261954",
   "metadata": {},
   "source": [
    "# CREATING TABLES AND SHOWING DATA"
   ]
  },
  {
   "cell_type": "code",
   "execution_count": 14,
   "id": "b4e7c27d",
   "metadata": {},
   "outputs": [],
   "source": [
    "new_db = con.connect(\n",
    "    host = \"localhost\",\n",
    "    user = \"root\",\n",
    "    password = \"root\",\n",
    "    database = \"college25\"\n",
    ")\n",
    "my_cursor = new_db.cursor()\n",
    "query = \"CREATE TABLE student25(rollno int, name varchar(100))\"\n",
    "my_cursor.execute(query)"
   ]
  },
  {
   "cell_type": "markdown",
   "id": "cfa163ef",
   "metadata": {},
   "source": [
    "# LIST ALL TABLES IN NEW DATABASE"
   ]
  },
  {
   "cell_type": "code",
   "execution_count": 15,
   "id": "df77696c",
   "metadata": {},
   "outputs": [
    {
     "name": "stdout",
     "output_type": "stream",
     "text": [
      "('student25',)\n",
      "('teacher25',)\n"
     ]
    }
   ],
   "source": [
    "new_db = con.connect(\n",
    "    host = \"localhost\",\n",
    "    user = \"root\",\n",
    "    password = \"root\",\n",
    "    database = \"college25\"\n",
    ")\n",
    "my_cursor = new_db.cursor()\n",
    "query = \"CREATE TABLE teacher25(tno int, tname varchar(100))\"\n",
    "my_cursor.execute(query)\n",
    "my_cursor.execute(\"SHOW TABLES\")\n",
    "for table in my_cursor:\n",
    "    print(table)\n"
   ]
  },
  {
   "cell_type": "markdown",
   "id": "ae3c7b69",
   "metadata": {},
   "source": [
    "# INSERTING DATA INTO THE TABLES"
   ]
  },
  {
   "cell_type": "code",
   "execution_count": 16,
   "id": "36d050a7",
   "metadata": {},
   "outputs": [
    {
     "name": "stdout",
     "output_type": "stream",
     "text": [
      "1 new record inserted\n"
     ]
    }
   ],
   "source": [
    "query = \"INSERT INTO student25 (rollno, name) VALUES (%s,%s)\"\n",
    "values = (\"1\",\"sachin\")\n",
    "my_cursor.execute(query,values)\n",
    "new_db.commit()\n",
    "print(my_cursor.rowcount,\"new record inserted\")"
   ]
  },
  {
   "cell_type": "markdown",
   "id": "fb614b23",
   "metadata": {},
   "source": [
    "# INSERTING MULTIPLE RECORDS INTO TABLE"
   ]
  },
  {
   "cell_type": "code",
   "execution_count": 17,
   "id": "f8cbe61a",
   "metadata": {},
   "outputs": [
    {
     "name": "stdout",
     "output_type": "stream",
     "text": [
      "4 new record inserted\n"
     ]
    }
   ],
   "source": [
    "query1 = \"INSERT INTO student25 (rollno, name) VALUES (%s,%s)\"\n",
    "values = [(\"2\",\"gurunath\"),\n",
    "          (\"3\",\"nihal\"),\n",
    "          (\"4\",\"vishal\"),\n",
    "          (\"5\",\"abhishek\")\n",
    "         ]\n",
    "my_cursor.executemany(query1,values)\n",
    "new_db.commit()\n",
    "print(my_cursor.rowcount,\"new record inserted\")"
   ]
  },
  {
   "cell_type": "markdown",
   "id": "15242244",
   "metadata": {},
   "source": [
    "# DISPLAY THE RECORDS FROM TABLE"
   ]
  },
  {
   "cell_type": "code",
   "execution_count": 19,
   "id": "bb9a9503",
   "metadata": {},
   "outputs": [
    {
     "name": "stdout",
     "output_type": "stream",
     "text": [
      "(1, 'sachin')\n",
      "(2, 'gurunath')\n",
      "(3, 'nihal')\n",
      "(4, 'vishal')\n",
      "(5, 'abhishek')\n"
     ]
    }
   ],
   "source": [
    "my_cursor = new_db.cursor()\n",
    "query1 = \"SELECT * FROM student25\"\n",
    "my_cursor.execute(query1)\n",
    "for a in my_cursor:\n",
    "    print(a)"
   ]
  },
  {
   "cell_type": "code",
   "execution_count": null,
   "id": "3b846262",
   "metadata": {},
   "outputs": [],
   "source": []
  }
 ],
 "metadata": {
  "kernelspec": {
   "display_name": "Python 3 (ipykernel)",
   "language": "python",
   "name": "python3"
  },
  "language_info": {
   "codemirror_mode": {
    "name": "ipython",
    "version": 3
   },
   "file_extension": ".py",
   "mimetype": "text/x-python",
   "name": "python",
   "nbconvert_exporter": "python",
   "pygments_lexer": "ipython3",
   "version": "3.9.12"
  }
 },
 "nbformat": 4,
 "nbformat_minor": 5
}
