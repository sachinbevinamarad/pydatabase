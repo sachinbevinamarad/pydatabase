{
 "cells": [
  {
   "cell_type": "markdown",
   "id": "f98eaacb",
   "metadata": {},
   "source": [
    "# NUMPY Library"
   ]
  },
  {
   "cell_type": "code",
   "execution_count": 1,
   "id": "5106e39b",
   "metadata": {},
   "outputs": [
    {
     "data": {
      "text/plain": [
       "'1.21.5'"
      ]
     },
     "execution_count": 1,
     "metadata": {},
     "output_type": "execute_result"
    }
   ],
   "source": [
    "import numpy as np\n",
    "np.__version__"
   ]
  },
  {
   "cell_type": "markdown",
   "id": "bb868478",
   "metadata": {},
   "source": [
    "# CREATE  A 1-D ARRAY USING ARRAY()"
   ]
  },
  {
   "cell_type": "code",
   "execution_count": 2,
   "id": "892aad49",
   "metadata": {},
   "outputs": [
    {
     "name": "stdout",
     "output_type": "stream",
     "text": [
      "[1 2 3]\n",
      "int32\n",
      "(3,)\n"
     ]
    }
   ],
   "source": [
    "import numpy as np\n",
    "a = np.array([1,2,3])\n",
    "print(a)\n",
    "print(a.dtype)\n",
    "print(a.shape)"
   ]
  },
  {
   "cell_type": "markdown",
   "id": "69eaff20",
   "metadata": {},
   "source": [
    "# CREATE  A 1-D ARRAY USING ARANGE()"
   ]
  },
  {
   "cell_type": "code",
   "execution_count": 5,
   "id": "8b939bf9",
   "metadata": {},
   "outputs": [
    {
     "name": "stdout",
     "output_type": "stream",
     "text": [
      "[0 1 2 3]\n",
      "int32\n",
      "(4,)\n"
     ]
    }
   ],
   "source": [
    "import numpy as np\n",
    "a = np.arange(4)\n",
    "print(a)\n",
    "print(a.dtype)\n",
    "print(a.shape)"
   ]
  },
  {
   "cell_type": "markdown",
   "id": "5e896343",
   "metadata": {},
   "source": [
    "# CREATE A 2-D ARRAY USING ARRAY()"
   ]
  },
  {
   "cell_type": "code",
   "execution_count": 6,
   "id": "7b4401ab",
   "metadata": {},
   "outputs": [
    {
     "name": "stdout",
     "output_type": "stream",
     "text": [
      "[[1 2 3]\n",
      " [4 5 6]]\n",
      "int32\n",
      "(2, 3)\n"
     ]
    }
   ],
   "source": [
    "import numpy as np\n",
    "a = np.array(([1,2,3],[4,5,6]))\n",
    "print(a)\n",
    "print(a.dtype)\n",
    "print(a.shape)"
   ]
  },
  {
   "cell_type": "markdown",
   "id": "327f485e",
   "metadata": {},
   "source": [
    "# CREATE A 2-D ARRAY USING arange()"
   ]
  },
  {
   "cell_type": "code",
   "execution_count": 8,
   "id": "eff7bb96",
   "metadata": {},
   "outputs": [
    {
     "name": "stdout",
     "output_type": "stream",
     "text": [
      "[[0 1 2 3 4]\n",
      " [5 6 7 8 9]]\n",
      "int32\n",
      "(2, 5)\n"
     ]
    }
   ],
   "source": [
    "import numpy as np\n",
    "a = np.arange(10).reshape(2,5)\n",
    "print(a)\n",
    "print(a.dtype)\n",
    "print(a.shape)"
   ]
  },
  {
   "cell_type": "markdown",
   "id": "e434cbbb",
   "metadata": {},
   "source": [
    "# CREATE A 3-D ARRAY USING ARRAY()"
   ]
  },
  {
   "cell_type": "code",
   "execution_count": 9,
   "id": "0eeb616d",
   "metadata": {},
   "outputs": [
    {
     "name": "stdout",
     "output_type": "stream",
     "text": [
      "[[[ 1  2  3]\n",
      "  [ 4  5  6]]\n",
      "\n",
      " [[ 7  8  9]\n",
      "  [10 11 12]]\n",
      "\n",
      " [[13 14 15]\n",
      "  [16 17 18]]]\n",
      "int32\n",
      "(3, 2, 3)\n"
     ]
    }
   ],
   "source": [
    "import numpy as np\n",
    "a = np.array([\n",
    "    [[1,2,3],[4,5,6,]],\n",
    "    [[7,8,9],[10,11,12]],\n",
    "    [[13,14,15],[16,17,18]]\n",
    "    ]\n",
    ")\n",
    "print(a)\n",
    "print(a.dtype)\n",
    "print(a.shape)"
   ]
  },
  {
   "cell_type": "markdown",
   "id": "54654702",
   "metadata": {},
   "source": [
    "# CREATE A 3-D ARRAY USING arange()"
   ]
  },
  {
   "cell_type": "code",
   "execution_count": 10,
   "id": "628f0e8d",
   "metadata": {},
   "outputs": [
    {
     "name": "stdout",
     "output_type": "stream",
     "text": [
      "[[[ 0  1  2]\n",
      "  [ 3  4  5]]\n",
      "\n",
      " [[ 6  7  8]\n",
      "  [ 9 10 11]]\n",
      "\n",
      " [[12 13 14]\n",
      "  [15 16 17]]]\n",
      "int32\n",
      "(3, 2, 3)\n"
     ]
    }
   ],
   "source": [
    "import numpy as np\n",
    "a = np.arange(18).reshape(3,2,3)\n",
    "print(a)\n",
    "print(a.dtype)\n",
    "print(a.shape)"
   ]
  },
  {
   "cell_type": "markdown",
   "id": "38d3ae46",
   "metadata": {},
   "source": [
    "# CREATING ARRAY OF ONES (1-D)"
   ]
  },
  {
   "cell_type": "code",
   "execution_count": 11,
   "id": "f0405af0",
   "metadata": {},
   "outputs": [
    {
     "name": "stdout",
     "output_type": "stream",
     "text": [
      "[1 1]\n",
      "int32\n",
      "(2,)\n"
     ]
    }
   ],
   "source": [
    "import numpy as np\n",
    "a = np.ones(2,dtype=np.int32)\n",
    "print(a)\n",
    "print(a.dtype)\n",
    "print(a.shape)"
   ]
  },
  {
   "cell_type": "markdown",
   "id": "52a914bc",
   "metadata": {},
   "source": [
    "# CREATING ARRAY OF ONES (2-D)"
   ]
  },
  {
   "cell_type": "code",
   "execution_count": 12,
   "id": "03df9164",
   "metadata": {},
   "outputs": [
    {
     "name": "stdout",
     "output_type": "stream",
     "text": [
      "[[1 1 1]\n",
      " [1 1 1]]\n",
      "int32\n",
      "(2, 3)\n"
     ]
    }
   ],
   "source": [
    "import numpy as np\n",
    "a = np.ones((2,3),dtype=np.int32)\n",
    "print(a)\n",
    "print(a.dtype)\n",
    "print(a.shape)"
   ]
  },
  {
   "cell_type": "markdown",
   "id": "bc2dae29",
   "metadata": {},
   "source": [
    "# CREATING ARRAY OF ONES (3-D)"
   ]
  },
  {
   "cell_type": "code",
   "execution_count": 14,
   "id": "c5bb7f1d",
   "metadata": {},
   "outputs": [
    {
     "name": "stdout",
     "output_type": "stream",
     "text": [
      "[[[1 1 1]\n",
      "  [1 1 1]]\n",
      "\n",
      " [[1 1 1]\n",
      "  [1 1 1]]\n",
      "\n",
      " [[1 1 1]\n",
      "  [1 1 1]]]\n",
      "int32\n",
      "(3, 2, 3)\n"
     ]
    }
   ],
   "source": [
    "import numpy as np\n",
    "a = np.ones((3,2,3),dtype=np.int32)\n",
    "print(a)\n",
    "print(a.dtype)\n",
    "print(a.shape)"
   ]
  },
  {
   "cell_type": "markdown",
   "id": "7d4bce25",
   "metadata": {},
   "source": [
    "# CREATE ARRAY OF ZEROS(1-D)"
   ]
  },
  {
   "cell_type": "code",
   "execution_count": 15,
   "id": "c7e8e725",
   "metadata": {},
   "outputs": [
    {
     "name": "stdout",
     "output_type": "stream",
     "text": [
      "[0 0 0]\n",
      "int32\n",
      "(3,)\n"
     ]
    }
   ],
   "source": [
    "import numpy as np\n",
    "a = np.zeros((3),dtype=np.int32)\n",
    "print(a)\n",
    "print(a.dtype)\n",
    "print(a.shape)"
   ]
  },
  {
   "cell_type": "markdown",
   "id": "f6c285c7",
   "metadata": {},
   "source": [
    "# CREATE ARRAY OF ZEROS(2-D)"
   ]
  },
  {
   "cell_type": "code",
   "execution_count": 16,
   "id": "1c3240d7",
   "metadata": {},
   "outputs": [
    {
     "name": "stdout",
     "output_type": "stream",
     "text": [
      "[[0 0 0]\n",
      " [0 0 0]]\n",
      "int32\n",
      "(2, 3)\n"
     ]
    }
   ],
   "source": [
    "import numpy as np\n",
    "a = np.zeros((2,3),dtype=np.int32)\n",
    "print(a)\n",
    "print(a.dtype)\n",
    "print(a.shape)"
   ]
  },
  {
   "cell_type": "markdown",
   "id": "426ba7ba",
   "metadata": {},
   "source": [
    "# CREATE ARRAY OF ZEROS(3-D)"
   ]
  },
  {
   "cell_type": "code",
   "execution_count": 20,
   "id": "a52ecab4",
   "metadata": {},
   "outputs": [
    {
     "name": "stdout",
     "output_type": "stream",
     "text": [
      "[[[0 0 0]\n",
      "  [0 0 0]]\n",
      "\n",
      " [[0 0 0]\n",
      "  [0 0 0]]\n",
      "\n",
      " [[0 0 0]\n",
      "  [0 0 0]]]\n",
      "int32\n",
      "(3, 2, 3)\n"
     ]
    }
   ],
   "source": [
    "import numpy as np\n",
    "a = np.zeros((3,2,3),dtype=np.int32)\n",
    "print(a)\n",
    "print(a.dtype)\n",
    "print(a.shape)"
   ]
  },
  {
   "cell_type": "markdown",
   "id": "000b34c4",
   "metadata": {},
   "source": [
    "# CREATE AN ARRAY WITN RAMDOM NUMBER (1-D)"
   ]
  },
  {
   "cell_type": "code",
   "execution_count": 21,
   "id": "b5e04599",
   "metadata": {},
   "outputs": [
    {
     "name": "stdout",
     "output_type": "stream",
     "text": [
      "[4 2 5 2]\n",
      "int32\n",
      "(4,)\n"
     ]
    }
   ],
   "source": [
    "import numpy as np\n",
    "a = np.random.randint(2,6,size=(4))\n",
    "print(a)\n",
    "print(a.dtype)\n",
    "print(a.shape)"
   ]
  },
  {
   "cell_type": "markdown",
   "id": "b7e530ab",
   "metadata": {},
   "source": [
    "# CREATE AN ARRAY WITN RAMDOM NUMBER (2-D)"
   ]
  },
  {
   "cell_type": "code",
   "execution_count": 22,
   "id": "49e01b79",
   "metadata": {},
   "outputs": [
    {
     "name": "stdout",
     "output_type": "stream",
     "text": [
      "[[2 5 9]\n",
      " [3 3 3]]\n",
      "int32\n",
      "(2, 3)\n"
     ]
    }
   ],
   "source": [
    "import numpy as np\n",
    "a = np.random.randint(2,11,size=(2,3))\n",
    "print(a)\n",
    "print(a.dtype)\n",
    "print(a.shape)"
   ]
  },
  {
   "cell_type": "markdown",
   "id": "cad6bf8c",
   "metadata": {},
   "source": [
    "# CREATE AN ARRAY WITN RAMDOM NUMBER (3-D)"
   ]
  },
  {
   "cell_type": "code",
   "execution_count": 26,
   "id": "629aba78",
   "metadata": {},
   "outputs": [
    {
     "name": "stdout",
     "output_type": "stream",
     "text": [
      "[[[11 16 13]\n",
      "  [18 16 18]]\n",
      "\n",
      " [[13 14 20]\n",
      "  [20 20 10]]\n",
      "\n",
      " [[14 19 11]\n",
      "  [17 15 15]]]\n",
      "int32\n",
      "(3, 2, 3)\n"
     ]
    }
   ],
   "source": [
    "import numpy as np\n",
    "a = np.random.randint(10,21,size=(3,2,3))\n",
    "print(a)\n",
    "print(a.dtype)\n",
    "print(a.shape)"
   ]
  },
  {
   "cell_type": "markdown",
   "id": "dc520bab",
   "metadata": {},
   "source": [
    "# CREATE ARRAY WITH SINGLE LOW MULTIPLE HIGH"
   ]
  },
  {
   "cell_type": "code",
   "execution_count": 27,
   "id": "2e03a0ff",
   "metadata": {},
   "outputs": [
    {
     "name": "stdout",
     "output_type": "stream",
     "text": [
      "[ 8 13 23]\n",
      "int32\n",
      "(3,)\n"
     ]
    }
   ],
   "source": [
    "import numpy as np\n",
    "a = np.random.randint(5,[10,20,30])\n",
    "print(a)\n",
    "print(a.dtype)\n",
    "print(a.shape)"
   ]
  },
  {
   "cell_type": "markdown",
   "id": "4d514b98",
   "metadata": {},
   "source": [
    "# CREATE ARRAY WITH MULTIPLE LOW SINGLE HIGH"
   ]
  },
  {
   "cell_type": "code",
   "execution_count": 28,
   "id": "374d9e7b",
   "metadata": {},
   "outputs": [
    {
     "name": "stdout",
     "output_type": "stream",
     "text": [
      "[1 3 4]\n",
      "int32\n",
      "(3,)\n"
     ]
    }
   ],
   "source": [
    "import numpy as np\n",
    "a = np.random.randint([1,2,3],5)\n",
    "print(a)\n",
    "print(a.dtype)\n",
    "print(a.shape)"
   ]
  },
  {
   "cell_type": "markdown",
   "id": "64d6469d",
   "metadata": {},
   "source": [
    "# CREATE ARRAY WITH MULTIPLE LOW MULTIPLE HIGH"
   ]
  },
  {
   "cell_type": "code",
   "execution_count": 30,
   "id": "6562b67f",
   "metadata": {},
   "outputs": [
    {
     "name": "stdout",
     "output_type": "stream",
     "text": [
      "[[[ 7 13 10]]\n",
      "\n",
      " [[ 5  9  9]]\n",
      "\n",
      " [[ 4  2 21]]]\n",
      "int32\n",
      "(3, 1, 3)\n"
     ]
    }
   ],
   "source": [
    "import numpy as np\n",
    "a = np.random.randint([1,2,3],[10,20,30],size=(3,1,3))\n",
    "print(a)\n",
    "print(a.dtype)\n",
    "print(a.shape)"
   ]
  },
  {
   "cell_type": "markdown",
   "id": "8ac3f8b1",
   "metadata": {},
   "source": [
    "# CREATE AN ARRAY USING RANDN ()"
   ]
  },
  {
   "cell_type": "code",
   "execution_count": 1,
   "id": "5af73c8e",
   "metadata": {},
   "outputs": [
    {
     "name": "stdout",
     "output_type": "stream",
     "text": [
      "[-0.05628036  1.20248126  2.82231253]\n"
     ]
    }
   ],
   "source": [
    "import numpy as np\n",
    "a = np.random.randn(3)\n",
    "print(a)"
   ]
  },
  {
   "cell_type": "code",
   "execution_count": 2,
   "id": "77d4ef7c",
   "metadata": {},
   "outputs": [
    {
     "name": "stdout",
     "output_type": "stream",
     "text": [
      "[[ 0.16575333  0.29553368 -1.18448901]\n",
      " [ 0.56419002 -0.34754842  0.4318418 ]\n",
      " [ 1.55842063 -0.35734004 -1.77519529]]\n"
     ]
    }
   ],
   "source": [
    "import numpy as np\n",
    "a = np.random.randn(3,3)\n",
    "print(a)"
   ]
  },
  {
   "cell_type": "markdown",
   "id": "797daadc",
   "metadata": {},
   "source": [
    "# CREATE AN ARRAY USING RAND ()"
   ]
  },
  {
   "cell_type": "code",
   "execution_count": 4,
   "id": "243cf51e",
   "metadata": {},
   "outputs": [
    {
     "name": "stdout",
     "output_type": "stream",
     "text": [
      "[[0.62714969 0.19667488 0.81286405]\n",
      " [0.09325445 0.85366219 0.77941742]\n",
      " [0.04613104 0.54100507 0.04349008]]\n"
     ]
    }
   ],
   "source": [
    "import numpy as np\n",
    "a = np.random.rand(3,3)\n",
    "print(a)"
   ]
  },
  {
   "cell_type": "code",
   "execution_count": 5,
   "id": "9620a76e",
   "metadata": {},
   "outputs": [
    {
     "name": "stdout",
     "output_type": "stream",
     "text": [
      "[[[0.09064686 0.78265764 0.42781354]\n",
      "  [0.8914109  0.37710591 0.01920168]]\n",
      "\n",
      " [[0.66264594 0.93845241 0.4491098 ]\n",
      "  [0.65461724 0.9179232  0.51766571]]\n",
      "\n",
      " [[0.2877414  0.96765034 0.41215164]\n",
      "  [0.90249074 0.25297177 0.99681734]]]\n"
     ]
    }
   ],
   "source": [
    "import numpy as np\n",
    "a = np.random.rand(3,2,3)\n",
    "print(a)"
   ]
  },
  {
   "cell_type": "markdown",
   "id": "18986af2",
   "metadata": {},
   "source": [
    "# POSITIVE INDEXING IN ARRAY"
   ]
  },
  {
   "cell_type": "code",
   "execution_count": 14,
   "id": "5303ed74",
   "metadata": {},
   "outputs": [
    {
     "name": "stdout",
     "output_type": "stream",
     "text": [
      "5\n",
      "3\n"
     ]
    }
   ],
   "source": [
    "#array with 1-D\n",
    "import numpy as np\n",
    "arr = np.array([1,2,3,4,5])\n",
    "print(arr[4])\n",
    "print(arr[2])"
   ]
  },
  {
   "cell_type": "code",
   "execution_count": 13,
   "id": "3a6aa448",
   "metadata": {},
   "outputs": [
    {
     "name": "stdout",
     "output_type": "stream",
     "text": [
      "3\n",
      "6\n"
     ]
    }
   ],
   "source": [
    "#array with 2-D\n",
    "import numpy as np\n",
    "arr = np.array([[1,2,3],[4,5,6]])\n",
    "print(arr[0,2])\n",
    "print(arr[1,2])"
   ]
  },
  {
   "cell_type": "code",
   "execution_count": 23,
   "id": "1732d98a",
   "metadata": {},
   "outputs": [
    {
     "name": "stdout",
     "output_type": "stream",
     "text": [
      "16\n"
     ]
    }
   ],
   "source": [
    "#array with 3-D\n",
    "import numpy as np\n",
    "arr = np.array([[[1,2,3],[4,5,6]],[[7,8,9],[10,11,12]],[[13,14,15],[16,17,18]]])\n",
    "print(arr[2,1,0])"
   ]
  },
  {
   "cell_type": "markdown",
   "id": "5facb11e",
   "metadata": {},
   "source": [
    "# NEGETIVE INDEXING IN ARRAY"
   ]
  },
  {
   "cell_type": "code",
   "execution_count": 24,
   "id": "43904362",
   "metadata": {},
   "outputs": [
    {
     "name": "stdout",
     "output_type": "stream",
     "text": [
      "4\n"
     ]
    }
   ],
   "source": [
    "#arry with 1-D\n",
    "import numpy as np\n",
    "arr = np.array([1,2,3,4,5])\n",
    "print(arr[-2])"
   ]
  },
  {
   "cell_type": "code",
   "execution_count": 25,
   "id": "92336a41",
   "metadata": {},
   "outputs": [
    {
     "name": "stdout",
     "output_type": "stream",
     "text": [
      "2\n"
     ]
    }
   ],
   "source": [
    "#arry with 2-D\n",
    "import numpy as np\n",
    "arr = np.array([[1,2,3],[4,5,6]])\n",
    "print(arr[-0,-2])"
   ]
  },
  {
   "cell_type": "code",
   "execution_count": 30,
   "id": "5ea9913c",
   "metadata": {},
   "outputs": [
    {
     "name": "stdout",
     "output_type": "stream",
     "text": [
      "7\n",
      "2\n"
     ]
    }
   ],
   "source": [
    "#arry with 3-D\n",
    "import numpy as np\n",
    "arr = np.array(\n",
    "[\n",
    "    [[1,2,3],[4,5,6]],\n",
    "    [[7,8,9],[10,11,12]]\n",
    "]\n",
    ")\n",
    "print(arr[-1,-2,-3])\n",
    "print(arr[-2,-2,-2])"
   ]
  },
  {
   "cell_type": "markdown",
   "id": "98cf86f0",
   "metadata": {},
   "source": [
    "# NUMPY ARRAY SLICING"
   ]
  },
  {
   "cell_type": "markdown",
   "id": "01ce260c",
   "metadata": {},
   "source": [
    "slice elements from index 1 to index 5 from following array:"
   ]
  },
  {
   "cell_type": "code",
   "execution_count": 31,
   "id": "004537ee",
   "metadata": {},
   "outputs": [
    {
     "name": "stdout",
     "output_type": "stream",
     "text": [
      "[2 3 4 5]\n"
     ]
    }
   ],
   "source": [
    "import numpy as np\n",
    "arr = np.array([1,2,3,4,5,6,7])\n",
    "print(arr[1:5])"
   ]
  },
  {
   "cell_type": "markdown",
   "id": "3ba2b2fd",
   "metadata": {},
   "source": [
    "slice elements from index 4 to the end of the array"
   ]
  },
  {
   "cell_type": "code",
   "execution_count": 33,
   "id": "35186cec",
   "metadata": {},
   "outputs": [
    {
     "name": "stdout",
     "output_type": "stream",
     "text": [
      "[5 6 7]\n"
     ]
    }
   ],
   "source": [
    "import numpy as np\n",
    "arr = np.array([1,2,3,4,5,6,7])\n",
    "print(arr[4:])"
   ]
  },
  {
   "cell_type": "markdown",
   "id": "c9e35a9d",
   "metadata": {},
   "source": [
    "slice elements from the beginning to index 4(not included)"
   ]
  },
  {
   "cell_type": "code",
   "execution_count": 35,
   "id": "fba6af5a",
   "metadata": {},
   "outputs": [
    {
     "name": "stdout",
     "output_type": "stream",
     "text": [
      "[1 2 3 4]\n"
     ]
    }
   ],
   "source": [
    "import numpy as np\n",
    "arr = np.array([1,2,3,4,5,6,7])\n",
    "print(arr[:4])"
   ]
  },
  {
   "cell_type": "markdown",
   "id": "a27ef624",
   "metadata": {},
   "source": [
    "# NEGETIVE SLICING"
   ]
  },
  {
   "cell_type": "markdown",
   "id": "0909e4a7",
   "metadata": {},
   "source": [
    "slice from the index 3 from the end to index 1 from the end:"
   ]
  },
  {
   "cell_type": "code",
   "execution_count": 37,
   "id": "51ce85a4",
   "metadata": {},
   "outputs": [
    {
     "name": "stdout",
     "output_type": "stream",
     "text": [
      "[5 6]\n"
     ]
    }
   ],
   "source": [
    "import numpy as np\n",
    "arr = np.array([1,2,3,4,5,6,7])\n",
    "print(arr[-3:-1])"
   ]
  },
  {
   "cell_type": "markdown",
   "id": "ab392f5d",
   "metadata": {},
   "source": [
    "return every other elements from index 1 to index 5"
   ]
  },
  {
   "cell_type": "code",
   "execution_count": 38,
   "id": "32094e03",
   "metadata": {},
   "outputs": [
    {
     "name": "stdout",
     "output_type": "stream",
     "text": [
      "[2 4]\n"
     ]
    }
   ],
   "source": [
    "import numpy as np\n",
    "arr = np.array([1,2,3,4,5,6,7])\n",
    "print(arr[1:5:2])"
   ]
  },
  {
   "cell_type": "markdown",
   "id": "5f094242",
   "metadata": {},
   "source": [
    "return every other element from the entire array"
   ]
  },
  {
   "cell_type": "code",
   "execution_count": 39,
   "id": "d2d5b8b4",
   "metadata": {},
   "outputs": [
    {
     "name": "stdout",
     "output_type": "stream",
     "text": [
      "[1 3 5 7]\n"
     ]
    }
   ],
   "source": [
    "import numpy as np\n",
    "arr = np.array([1,2,3,4,5,6,7])\n",
    "print(arr[::2])"
   ]
  },
  {
   "cell_type": "markdown",
   "id": "761f13b3",
   "metadata": {},
   "source": [
    "# SLICING 2-D ARRAY"
   ]
  },
  {
   "cell_type": "markdown",
   "id": "73c5dee1",
   "metadata": {},
   "source": [
    "from the second elements,slice elements from index 1 to index 4(not included)"
   ]
  },
  {
   "cell_type": "code",
   "execution_count": 40,
   "id": "2c464fe1",
   "metadata": {},
   "outputs": [
    {
     "name": "stdout",
     "output_type": "stream",
     "text": [
      "[7 8 9]\n"
     ]
    }
   ],
   "source": [
    "import numpy as np\n",
    "arr = np.array([[1,2,3,4,5],[6,7,8,9,10]])\n",
    "print(arr[1,1:4])"
   ]
  },
  {
   "cell_type": "markdown",
   "id": "db5c937e",
   "metadata": {},
   "source": [
    "from both arrays ,return index 2:"
   ]
  },
  {
   "cell_type": "code",
   "execution_count": 41,
   "id": "8a471a71",
   "metadata": {},
   "outputs": [
    {
     "name": "stdout",
     "output_type": "stream",
     "text": [
      "[3 8]\n"
     ]
    }
   ],
   "source": [
    "import numpy as np\n",
    "arr = np.array([[1,2,3,4,5],[6,7,8,9,10]])\n",
    "print(arr[0:2,2])"
   ]
  },
  {
   "cell_type": "markdown",
   "id": "10ded304",
   "metadata": {},
   "source": [
    "from both arrays,slice index 1 to index 4(not included),this will return 2-D array"
   ]
  },
  {
   "cell_type": "code",
   "execution_count": 42,
   "id": "7eb5442f",
   "metadata": {},
   "outputs": [
    {
     "name": "stdout",
     "output_type": "stream",
     "text": [
      "[[2 3 4]\n",
      " [7 8 9]]\n"
     ]
    }
   ],
   "source": [
    "import numpy as np\n",
    "arr = np.array([[1,2,3,4,5],[6,7,8,9,10]])\n",
    "print(arr[0:2,1:4])\n"
   ]
  },
  {
   "cell_type": "markdown",
   "id": "c7019901",
   "metadata": {},
   "source": [
    "# NUMPY ARRAY COPY VS VIEW"
   ]
  },
  {
   "cell_type": "markdown",
   "id": "2b297d34",
   "metadata": {},
   "source": [
    "#The copy owns the data and any changes made to the copyed array it will not affect the original array,and any changes made to the original array will not affect the copied array."
   ]
  },
  {
   "cell_type": "markdown",
   "id": "246f85e2",
   "metadata": {},
   "source": [
    "#The view does not own the data and changes made to the view will affect the original array and changes made to the original array will affect to the view"
   ]
  },
  {
   "cell_type": "code",
   "execution_count": 2,
   "id": "5dff3556",
   "metadata": {},
   "outputs": [
    {
     "name": "stdout",
     "output_type": "stream",
     "text": [
      "original array\n",
      "[1 2 3 4 5]\n"
     ]
    }
   ],
   "source": [
    "import numpy as np\n",
    "arr = np.array([1,2,3,4,5])\n",
    "a = arr.copy\n",
    "print(\"original array\")\n",
    "print(arr)\n",
    "print(\"affected array\")\n"
   ]
  },
  {
   "cell_type": "code",
   "execution_count": 3,
   "id": "167f4188",
   "metadata": {},
   "outputs": [
    {
     "name": "stdout",
     "output_type": "stream",
     "text": [
      "original array\n",
      "[1 2 3 4 5]\n",
      "[1 2 3 4 5]\n"
     ]
    }
   ],
   "source": [
    "import numpy as np\n",
    "arr = np.array([1,2,3,4,5])\n",
    "x = arr.view()\n",
    "print(\"original array\")\n",
    "print(arr)\n",
    "print(x)\n",
    "print(\"affected array\")\n"
   ]
  },
  {
   "cell_type": "markdown",
   "id": "a87a5102",
   "metadata": {},
   "source": [
    "# reshape() FUNCTION"
   ]
  },
  {
   "cell_type": "code",
   "execution_count": 5,
   "id": "30f5bdda",
   "metadata": {},
   "outputs": [
    {
     "name": "stdout",
     "output_type": "stream",
     "text": [
      "original array : [ 1  2  3  4  5  6  7  8  9 10]\n",
      "2D array with shape 5x2\n",
      "[[ 1  2]\n",
      " [ 3  4]\n",
      " [ 5  6]\n",
      " [ 7  8]\n",
      " [ 9 10]]\n",
      "2D array with shape 2x5\n",
      "[[ 1  2  3  4  5]\n",
      " [ 6  7  8  9 10]]\n",
      "3D array with shape\n",
      "[[[ 1  2  3  4  5]]\n",
      "\n",
      " [[ 6  7  8  9 10]]]\n"
     ]
    }
   ],
   "source": [
    "import numpy as np\n",
    "arr = np.array([1,2,3,4,5,6,7,8,9,10])\n",
    "print(\"original array :\",arr) #1-d\n",
    "\n",
    "#2D ARRAY\n",
    "b = arr.reshape(5,2)\n",
    "print(\"2D array with shape 5x2\")\n",
    "print(b)\n",
    "\n",
    "c = arr.reshape(2,5)\n",
    "print(\"2D array with shape 2x5\")\n",
    "print(c)\n",
    "\n",
    "#3D ARRAY\n",
    "d = arr.reshape(2,1,5)\n",
    "print(\"3D array with shape\")\n",
    "print(d)"
   ]
  },
  {
   "cell_type": "code",
   "execution_count": 26,
   "id": "6ccd185c",
   "metadata": {},
   "outputs": [
    {
     "name": "stdout",
     "output_type": "stream",
     "text": [
      "original 1D array : [1 2 3 4 5]\n",
      "sum = 15\n",
      "\n",
      "original 2D array: [[ 1  2  3  4  5]\n",
      " [ 6  7  8  9 10]]\n",
      "sum = 55\n",
      "\n",
      "original 3D array: [[[ 1  2  3]\n",
      "  [ 4  5  6]]\n",
      "\n",
      " [[ 7  8  9]\n",
      "  [10 11 12]]]\n",
      "sum = 78\n",
      "\n"
     ]
    }
   ],
   "source": [
    "import numpy as np\n",
    "arr = np.array([1,2,3,4,5]) #1D\n",
    "print(\"original 1D array :\",arr)\n",
    "print(f\"sum = {np.sum(arr)}\")\n",
    "print()\n",
    "arr1 = np.array([[1,2,3,4,5],[6,7,8,9,10]])\n",
    "print(\"original 2D array:\",arr1)\n",
    "print(f\"sum = {np.sum(arr1)}\")\n",
    "print()\n",
    "arr2 = np.array([\n",
    "    [[1,2,3],[4,5,6]],\n",
    "    [[7,8,9],[10,11,12]]\n",
    "   ])\n",
    "print(\"original 3D array:\",arr2)\n",
    "print(f\"sum = {np.sum(arr2)}\")\n",
    "print()"
   ]
  },
  {
   "cell_type": "markdown",
   "id": "f974cc83",
   "metadata": {},
   "source": [
    "# AGREEGATION FUNCTION"
   ]
  },
  {
   "cell_type": "markdown",
   "id": "9d200e4e",
   "metadata": {},
   "source": [
    "# sum() FUNCTION"
   ]
  },
  {
   "cell_type": "code",
   "execution_count": 11,
   "id": "8a6930b3",
   "metadata": {},
   "outputs": [
    {
     "name": "stdout",
     "output_type": "stream",
     "text": [
      "original array : [[1 2 3 4]\n",
      " [5 6 7 8]]\n"
     ]
    }
   ],
   "source": [
    "#np.sum(array_name , axis = 0 or 1)\n",
    "import numpy as np\n",
    "arr = np.array([[1,2,3,4],[5,6,7,8]])\n",
    "print(\"original array :\",arr)"
   ]
  },
  {
   "cell_type": "markdown",
   "id": "c1a6df6e",
   "metadata": {},
   "source": [
    "# mean() FUNCTION"
   ]
  },
  {
   "cell_type": "code",
   "execution_count": 12,
   "id": "3a55e59f",
   "metadata": {},
   "outputs": [
    {
     "name": "stdout",
     "output_type": "stream",
     "text": [
      "original array : [1 2 3 4 5 6 7 8]\n",
      "mean : 4.5\n"
     ]
    }
   ],
   "source": [
    "import numpy as np\n",
    "arr = np.array([1,2,3,4,5,6,7,8])\n",
    "print(\"original array :\",arr)\n",
    "print(\"mean :\",arr.mean())"
   ]
  },
  {
   "cell_type": "code",
   "execution_count": 16,
   "id": "7831dcf4",
   "metadata": {},
   "outputs": [
    {
     "name": "stdout",
     "output_type": "stream",
     "text": [
      "original array : [[1 2 3 4]\n",
      " [5 6 7 8]]\n",
      "Across Rows\n",
      "mean =  [3. 4. 5. 6.]\n",
      "Across columns\n",
      "mean =  [2.5 6.5]\n"
     ]
    }
   ],
   "source": [
    "# import numpy as np\n",
    "arr = np.array([[1,2,3,4],[5,6,7,8]])\n",
    "print(\"original array :\",arr)\n",
    "print(\"Across Rows\") #column wise\n",
    "print(\"mean = \",np.mean(arr , axis=0))\n",
    "print(\"Across columns\") #Row wise\n",
    "print(\"mean = \",np.mean(arr , axis=1))"
   ]
  },
  {
   "cell_type": "markdown",
   "id": "2e7f9bc4",
   "metadata": {},
   "source": [
    "# std() FUNCTION"
   ]
  },
  {
   "cell_type": "code",
   "execution_count": 15,
   "id": "4df6446b",
   "metadata": {},
   "outputs": [
    {
     "name": "stdout",
     "output_type": "stream",
     "text": [
      "original array : [[1 2 3 4]\n",
      " [5 6 7 8]]\n",
      "\n",
      "standard div: 2.29128784747792\n"
     ]
    }
   ],
   "source": [
    "import numpy as np\n",
    "arr = np.array([[1,2,3,4],[5,6,7,8]])\n",
    "print(\"original array :\",arr)\n",
    "print()\n",
    "print(\"standard div:\",np.std(arr))"
   ]
  },
  {
   "cell_type": "code",
   "execution_count": 19,
   "id": "a6a7a44d",
   "metadata": {},
   "outputs": [
    {
     "name": "stdout",
     "output_type": "stream",
     "text": [
      "original array : [[1 2 3 4]\n",
      " [5 6 7 8]]\n",
      "Across Rows\n",
      "std div =  [2. 2. 2. 2.]\n",
      "\n",
      "Across columns\n",
      "std div =  [1.11803399 1.11803399]\n",
      "\n"
     ]
    }
   ],
   "source": [
    "import numpy as np\n",
    "arr = np.array([[1,2,3,4],[5,6,7,8]])\n",
    "print(\"original array :\",arr)\n",
    "\n",
    "print(\"Across Rows\") #column wise\n",
    "print(\"std div = \",np.std(arr , axis=0))\n",
    "print()\n",
    "print(\"Across columns\") #Row wise\n",
    "print(\"std div = \",np.std(arr , axis=1))\n",
    "print()"
   ]
  },
  {
   "cell_type": "markdown",
   "id": "8be86545",
   "metadata": {},
   "source": [
    "# var() FUNCTION"
   ]
  },
  {
   "cell_type": "code",
   "execution_count": 20,
   "id": "5740f6de",
   "metadata": {},
   "outputs": [
    {
     "name": "stdout",
     "output_type": "stream",
     "text": [
      "original array : [[1 2 3 4]\n",
      " [5 6 7 8]]\n",
      "\n",
      "varient: 5.25\n"
     ]
    }
   ],
   "source": [
    "import numpy as np\n",
    "arr = np.array([[1,2,3,4],[5,6,7,8]])\n",
    "print(\"original array :\",arr)\n",
    "print()\n",
    "print(\"varient:\",np.var(arr))"
   ]
  },
  {
   "cell_type": "code",
   "execution_count": 21,
   "id": "edd15113",
   "metadata": {},
   "outputs": [
    {
     "name": "stdout",
     "output_type": "stream",
     "text": [
      "original array : [[1 2 3 4]\n",
      " [5 6 7 8]]\n",
      "Across Rows\n",
      "var =  [4. 4. 4. 4.]\n",
      "\n",
      "Across columns\n",
      "var =  [1.25 1.25]\n",
      "\n"
     ]
    }
   ],
   "source": [
    "import numpy as np\n",
    "arr = np.array([[1,2,3,4],[5,6,7,8]])\n",
    "print(\"original array :\",arr)\n",
    "\n",
    "print(\"Across Rows\") #column wise\n",
    "print(\"var = \",np.var(arr , axis=0))\n",
    "print()\n",
    "print(\"Across columns\") #Row wise\n",
    "print(\"var = \",np.var(arr , axis=1))\n",
    "print()"
   ]
  },
  {
   "cell_type": "markdown",
   "id": "fc2c3122",
   "metadata": {},
   "source": [
    "# min( ) FUNCTION"
   ]
  },
  {
   "cell_type": "code",
   "execution_count": 22,
   "id": "97f809a8",
   "metadata": {},
   "outputs": [
    {
     "name": "stdout",
     "output_type": "stream",
     "text": [
      "original array : [[1 2 3 4]\n",
      " [5 6 7 8]]\n",
      "\n",
      "minimun: 1\n"
     ]
    }
   ],
   "source": [
    "import numpy as np\n",
    "arr = np.array([[1,2,3,4],[5,6,7,8]])\n",
    "print(\"original array :\",arr)\n",
    "print()\n",
    "print(\"minimun:\",np.min(arr))"
   ]
  },
  {
   "cell_type": "code",
   "execution_count": 23,
   "id": "d9a583de",
   "metadata": {},
   "outputs": [
    {
     "name": "stdout",
     "output_type": "stream",
     "text": [
      "original array : [[1 2 3 4]\n",
      " [5 6 7 8]]\n",
      "Across Rows\n",
      "min =  [1 2 3 4]\n",
      "\n",
      "Across columns\n",
      "min =  [1 5]\n",
      "\n"
     ]
    }
   ],
   "source": [
    "import numpy as np\n",
    "arr = np.array([[1,2,3,4],[5,6,7,8]])\n",
    "print(\"original array :\",arr)\n",
    "\n",
    "print(\"Across Rows\") #column wise\n",
    "print(\"min = \",np.min(arr , axis=0))\n",
    "print()\n",
    "print(\"Across columns\") #Row wise\n",
    "print(\"min = \",np.min(arr , axis=1))\n",
    "print()"
   ]
  },
  {
   "cell_type": "markdown",
   "id": "8f8f5f76",
   "metadata": {},
   "source": [
    "# max( ) FUNCTION"
   ]
  },
  {
   "cell_type": "code",
   "execution_count": 24,
   "id": "3f39c6b2",
   "metadata": {},
   "outputs": [
    {
     "name": "stdout",
     "output_type": "stream",
     "text": [
      "original array : [[1 2 3 4]\n",
      " [5 6 7 8]]\n",
      "\n",
      "maximum: 8\n"
     ]
    }
   ],
   "source": [
    "import numpy as np\n",
    "arr = np.array([[1,2,3,4],[5,6,7,8]])\n",
    "print(\"original array :\",arr)\n",
    "print()\n",
    "print(\"maximum:\",np.max(arr))"
   ]
  },
  {
   "cell_type": "code",
   "execution_count": 25,
   "id": "fd7a5e4b",
   "metadata": {},
   "outputs": [
    {
     "name": "stdout",
     "output_type": "stream",
     "text": [
      "original array : [[1 2 3 4]\n",
      " [5 6 7 8]]\n",
      "Across Rows\n",
      "max =  [5 6 7 8]\n",
      "\n",
      "Across columns\n",
      "max =  [4 8]\n",
      "\n"
     ]
    }
   ],
   "source": [
    "import numpy as np\n",
    "arr = np.array([[1,2,3,4],[5,6,7,8]])\n",
    "print(\"original array :\",arr)\n",
    "\n",
    "print(\"Across Rows\") #column wise\n",
    "print(\"max = \",np.max(arr , axis=0))\n",
    "print()\n",
    "print(\"Across columns\") #Row wise\n",
    "print(\"max = \",np.max(arr , axis=1))\n",
    "print()"
   ]
  },
  {
   "cell_type": "code",
   "execution_count": null,
   "id": "382e0c05",
   "metadata": {},
   "outputs": [],
   "source": []
  }
 ],
 "metadata": {
  "kernelspec": {
   "display_name": "Python 3 (ipykernel)",
   "language": "python",
   "name": "python3"
  },
  "language_info": {
   "codemirror_mode": {
    "name": "ipython",
    "version": 3
   },
   "file_extension": ".py",
   "mimetype": "text/x-python",
   "name": "python",
   "nbconvert_exporter": "python",
   "pygments_lexer": "ipython3",
   "version": "3.9.12"
  }
 },
 "nbformat": 4,
 "nbformat_minor": 5
}
