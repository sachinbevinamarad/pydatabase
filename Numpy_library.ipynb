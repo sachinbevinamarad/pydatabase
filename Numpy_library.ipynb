{
 "cells": [
  {
   "cell_type": "markdown",
   "id": "74ea27e4",
   "metadata": {},
   "source": [
    "# NUMPY Library"
   ]
  },
  {
   "cell_type": "code",
   "execution_count": 1,
   "id": "e512c8f2",
   "metadata": {},
   "outputs": [
    {
     "data": {
      "text/plain": [
       "'1.21.5'"
      ]
     },
     "execution_count": 1,
     "metadata": {},
     "output_type": "execute_result"
    }
   ],
   "source": [
    "import numpy as np\n",
    "np.__version__"
   ]
  },
  {
   "cell_type": "markdown",
   "id": "6db6f99b",
   "metadata": {},
   "source": [
    "# CREATE  A 1-D ARRAY USING ARRAY()"
   ]
  },
  {
   "cell_type": "code",
   "execution_count": 2,
   "id": "b422d71e",
   "metadata": {},
   "outputs": [
    {
     "name": "stdout",
     "output_type": "stream",
     "text": [
      "[1 2 3]\n",
      "int32\n",
      "(3,)\n"
     ]
    }
   ],
   "source": [
    "import numpy as np\n",
    "a = np.array([1,2,3])\n",
    "print(a)\n",
    "print(a.dtype)\n",
    "print(a.shape)"
   ]
  },
  {
   "cell_type": "markdown",
   "id": "62184800",
   "metadata": {},
   "source": [
    "# CREATE  A 1-D ARRAY USING ARANGE()"
   ]
  },
  {
   "cell_type": "code",
   "execution_count": 5,
   "id": "a065d8df",
   "metadata": {},
   "outputs": [
    {
     "name": "stdout",
     "output_type": "stream",
     "text": [
      "[0 1 2 3]\n",
      "int32\n",
      "(4,)\n"
     ]
    }
   ],
   "source": [
    "import numpy as np\n",
    "a = np.arange(4)\n",
    "print(a)\n",
    "print(a.dtype)\n",
    "print(a.shape)"
   ]
  },
  {
   "cell_type": "markdown",
   "id": "9655fbc9",
   "metadata": {},
   "source": [
    "# CREATE A 2-D ARRAY USING ARRAY()"
   ]
  },
  {
   "cell_type": "code",
   "execution_count": 6,
   "id": "d54901db",
   "metadata": {},
   "outputs": [
    {
     "name": "stdout",
     "output_type": "stream",
     "text": [
      "[[1 2 3]\n",
      " [4 5 6]]\n",
      "int32\n",
      "(2, 3)\n"
     ]
    }
   ],
   "source": [
    "import numpy as np\n",
    "a = np.array(([1,2,3],[4,5,6]))\n",
    "print(a)\n",
    "print(a.dtype)\n",
    "print(a.shape)"
   ]
  },
  {
   "cell_type": "markdown",
   "id": "f491c24b",
   "metadata": {},
   "source": [
    "# CREATE A 2-D ARRAY USING arange()"
   ]
  },
  {
   "cell_type": "code",
   "execution_count": 8,
   "id": "48ba7b2d",
   "metadata": {},
   "outputs": [
    {
     "name": "stdout",
     "output_type": "stream",
     "text": [
      "[[0 1 2 3 4]\n",
      " [5 6 7 8 9]]\n",
      "int32\n",
      "(2, 5)\n"
     ]
    }
   ],
   "source": [
    "import numpy as np\n",
    "a = np.arange(10).reshape(2,5)\n",
    "print(a)\n",
    "print(a.dtype)\n",
    "print(a.shape)"
   ]
  },
  {
   "cell_type": "markdown",
   "id": "90217a82",
   "metadata": {},
   "source": [
    "# CREATE A 3-D ARRAY USING ARRAY()"
   ]
  },
  {
   "cell_type": "code",
   "execution_count": 9,
   "id": "0ed8a4d2",
   "metadata": {},
   "outputs": [
    {
     "name": "stdout",
     "output_type": "stream",
     "text": [
      "[[[ 1  2  3]\n",
      "  [ 4  5  6]]\n",
      "\n",
      " [[ 7  8  9]\n",
      "  [10 11 12]]\n",
      "\n",
      " [[13 14 15]\n",
      "  [16 17 18]]]\n",
      "int32\n",
      "(3, 2, 3)\n"
     ]
    }
   ],
   "source": [
    "import numpy as np\n",
    "a = np.array([\n",
    "    [[1,2,3],[4,5,6,]],\n",
    "    [[7,8,9],[10,11,12]],\n",
    "    [[13,14,15],[16,17,18]]\n",
    "    ]\n",
    ")\n",
    "print(a)\n",
    "print(a.dtype)\n",
    "print(a.shape)"
   ]
  },
  {
   "cell_type": "markdown",
   "id": "d6a8612d",
   "metadata": {},
   "source": [
    "# CREATE A 3-D ARRAY USING arange()"
   ]
  },
  {
   "cell_type": "code",
   "execution_count": 10,
   "id": "ee14bfbf",
   "metadata": {},
   "outputs": [
    {
     "name": "stdout",
     "output_type": "stream",
     "text": [
      "[[[ 0  1  2]\n",
      "  [ 3  4  5]]\n",
      "\n",
      " [[ 6  7  8]\n",
      "  [ 9 10 11]]\n",
      "\n",
      " [[12 13 14]\n",
      "  [15 16 17]]]\n",
      "int32\n",
      "(3, 2, 3)\n"
     ]
    }
   ],
   "source": [
    "import numpy as np\n",
    "a = np.arange(18).reshape(3,2,3)\n",
    "print(a)\n",
    "print(a.dtype)\n",
    "print(a.shape)"
   ]
  },
  {
   "cell_type": "markdown",
   "id": "e9df6e69",
   "metadata": {},
   "source": [
    "# CREATING ARRAY OF ONES (1-D)"
   ]
  },
  {
   "cell_type": "code",
   "execution_count": 11,
   "id": "0b3aa109",
   "metadata": {},
   "outputs": [
    {
     "name": "stdout",
     "output_type": "stream",
     "text": [
      "[1 1]\n",
      "int32\n",
      "(2,)\n"
     ]
    }
   ],
   "source": [
    "import numpy as np\n",
    "a = np.ones(2,dtype=np.int32)\n",
    "print(a)\n",
    "print(a.dtype)\n",
    "print(a.shape)"
   ]
  },
  {
   "cell_type": "code",
   "execution_count": null,
   "id": "3d6239ae",
   "metadata": {},
   "outputs": [],
   "source": []
  },
  {
   "cell_type": "code",
   "execution_count": 12,
   "id": "60be51b2",
   "metadata": {},
   "outputs": [
    {
     "name": "stdout",
     "output_type": "stream",
     "text": [
      "[[1 1 1]\n",
      " [1 1 1]]\n",
      "int32\n",
      "(2, 3)\n"
     ]
    }
   ],
   "source": [
    "import numpy as np\n",
    "a = np.ones((2,3),dtype=np.int32)\n",
    "print(a)\n",
    "print(a.dtype)\n",
    "print(a.shape)"
   ]
  },
  {
   "cell_type": "code",
   "execution_count": null,
   "id": "228d036e",
   "metadata": {},
   "outputs": [],
   "source": []
  },
  {
   "cell_type": "code",
   "execution_count": 14,
   "id": "a73296c5",
   "metadata": {},
   "outputs": [
    {
     "name": "stdout",
     "output_type": "stream",
     "text": [
      "[[[1 1 1]\n",
      "  [1 1 1]]\n",
      "\n",
      " [[1 1 1]\n",
      "  [1 1 1]]\n",
      "\n",
      " [[1 1 1]\n",
      "  [1 1 1]]]\n",
      "int32\n",
      "(3, 2, 3)\n"
     ]
    }
   ],
   "source": [
    "import numpy as np\n",
    "a = np.ones((3,2,3),dtype=np.int32)\n",
    "print(a)\n",
    "print(a.dtype)\n",
    "print(a.shape)"
   ]
  },
  {
   "cell_type": "markdown",
   "id": "6ad1e489",
   "metadata": {},
   "source": [
    "# CREATE ARRAY OF ZEROS(1-D)"
   ]
  },
  {
   "cell_type": "code",
   "execution_count": 15,
   "id": "9309cc7b",
   "metadata": {},
   "outputs": [
    {
     "name": "stdout",
     "output_type": "stream",
     "text": [
      "[0 0 0]\n",
      "int32\n",
      "(3,)\n"
     ]
    }
   ],
   "source": [
    "import numpy as np\n",
    "a = np.zeros((3),dtype=np.int32)\n",
    "print(a)\n",
    "print(a.dtype)\n",
    "print(a.shape)"
   ]
  },
  {
   "cell_type": "markdown",
   "id": "cdb1dce4",
   "metadata": {},
   "source": [
    "# CREATE ARRAY OF ZEROS(2-D)"
   ]
  },
  {
   "cell_type": "code",
   "execution_count": 16,
   "id": "a3940736",
   "metadata": {},
   "outputs": [
    {
     "name": "stdout",
     "output_type": "stream",
     "text": [
      "[[0 0 0]\n",
      " [0 0 0]]\n",
      "int32\n",
      "(2, 3)\n"
     ]
    }
   ],
   "source": [
    "import numpy as np\n",
    "a = np.zeros((2,3),dtype=np.int32)\n",
    "print(a)\n",
    "print(a.dtype)\n",
    "print(a.shape)"
   ]
  },
  {
   "cell_type": "markdown",
   "id": "475f2c0c",
   "metadata": {},
   "source": [
    "# CREATE ARRAY OF ZEROS(3-D)"
   ]
  },
  {
   "cell_type": "code",
   "execution_count": 20,
   "id": "ac569dce",
   "metadata": {},
   "outputs": [
    {
     "name": "stdout",
     "output_type": "stream",
     "text": [
      "[[[0 0 0]\n",
      "  [0 0 0]]\n",
      "\n",
      " [[0 0 0]\n",
      "  [0 0 0]]\n",
      "\n",
      " [[0 0 0]\n",
      "  [0 0 0]]]\n",
      "int32\n",
      "(3, 2, 3)\n"
     ]
    }
   ],
   "source": [
    "import numpy as np\n",
    "a = np.zeros((3,2,3),dtype=np.int32)\n",
    "print(a)\n",
    "print(a.dtype)\n",
    "print(a.shape)"
   ]
  },
  {
   "cell_type": "markdown",
   "id": "5fb08b0b",
   "metadata": {},
   "source": [
    "# CREATE AN ARRAY WITN RAMDOM NUMBER (1-D)"
   ]
  },
  {
   "cell_type": "code",
   "execution_count": 21,
   "id": "ce2f22a8",
   "metadata": {},
   "outputs": [
    {
     "name": "stdout",
     "output_type": "stream",
     "text": [
      "[4 2 5 2]\n",
      "int32\n",
      "(4,)\n"
     ]
    }
   ],
   "source": [
    "import numpy as np\n",
    "a = np.random.randint(2,6,size=(4))\n",
    "print(a)\n",
    "print(a.dtype)\n",
    "print(a.shape)"
   ]
  },
  {
   "cell_type": "markdown",
   "id": "6dd0edf1",
   "metadata": {},
   "source": [
    "# CREATE AN ARRAY WITN RAMDOM NUMBER (2-D)"
   ]
  },
  {
   "cell_type": "code",
   "execution_count": 22,
   "id": "d0137bc3",
   "metadata": {},
   "outputs": [
    {
     "name": "stdout",
     "output_type": "stream",
     "text": [
      "[[2 5 9]\n",
      " [3 3 3]]\n",
      "int32\n",
      "(2, 3)\n"
     ]
    }
   ],
   "source": [
    "import numpy as np\n",
    "a = np.random.randint(2,11,size=(2,3))\n",
    "print(a)\n",
    "print(a.dtype)\n",
    "print(a.shape)"
   ]
  },
  {
   "cell_type": "markdown",
   "id": "0a35e744",
   "metadata": {},
   "source": [
    "# CREATE AN ARRAY WITN RAMDOM NUMBER (3-D)"
   ]
  },
  {
   "cell_type": "code",
   "execution_count": 26,
   "id": "32d48ffe",
   "metadata": {},
   "outputs": [
    {
     "name": "stdout",
     "output_type": "stream",
     "text": [
      "[[[11 16 13]\n",
      "  [18 16 18]]\n",
      "\n",
      " [[13 14 20]\n",
      "  [20 20 10]]\n",
      "\n",
      " [[14 19 11]\n",
      "  [17 15 15]]]\n",
      "int32\n",
      "(3, 2, 3)\n"
     ]
    }
   ],
   "source": [
    "import numpy as np\n",
    "a = np.random.randint(10,21,size=(3,2,3))\n",
    "print(a)\n",
    "print(a.dtype)\n",
    "print(a.shape)"
   ]
  },
  {
   "cell_type": "code",
   "execution_count": null,
   "id": "a1c3acab",
   "metadata": {},
   "outputs": [],
   "source": []
  }
 ],
 "metadata": {
  "kernelspec": {
   "display_name": "Python 3 (ipykernel)",
   "language": "python",
   "name": "python3"
  },
  "language_info": {
   "codemirror_mode": {
    "name": "ipython",
    "version": 3
   },
   "file_extension": ".py",
   "mimetype": "text/x-python",
   "name": "python",
   "nbconvert_exporter": "python",
   "pygments_lexer": "ipython3",
   "version": "3.9.12"
  }
 },
 "nbformat": 4,
 "nbformat_minor": 5
}
