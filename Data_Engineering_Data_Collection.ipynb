{
 "cells": [
  {
   "cell_type": "markdown",
   "id": "aedbd67b",
   "metadata": {},
   "source": [
    "# Data engineering pipeline"
   ]
  },
  {
   "cell_type": "markdown",
   "id": "1b80f6ba",
   "metadata": {},
   "source": [
    "# Data Collection"
   ]
  },
  {
   "cell_type": "markdown",
   "id": "d487491a",
   "metadata": {},
   "source": [
    "# Population and sample"
   ]
  },
  {
   "cell_type": "markdown",
   "id": "de358619",
   "metadata": {},
   "source": [
    "https://byjus.com/maths/population-and-sample/"
   ]
  },
  {
   "cell_type": "markdown",
   "id": "91bb0cdf",
   "metadata": {},
   "source": [
    "# What is Population?"
   ]
  },
  {
   "cell_type": "markdown",
   "id": "94de0234",
   "metadata": {},
   "source": [
    "In statistics, population is the entire set of items from which you draw data for a statistical study. It can be a group of individuals, a set of items, etc. It makes up the data pool for a study."
   ]
  },
  {
   "cell_type": "markdown",
   "id": "1c11240a",
   "metadata": {},
   "source": [
    "# What is a Sample?"
   ]
  },
  {
   "cell_type": "markdown",
   "id": "2fa103eb",
   "metadata": {},
   "source": [
    "A sample is defined as a smaller and more manageable representation of a larger group. A subset of a larger population that contains characteristics of that population. A sample is used in statistical testing when the population size is too large for all members or observations to be included in the test."
   ]
  },
  {
   "cell_type": "markdown",
   "id": "900a7805",
   "metadata": {},
   "source": [
    "# Basically, there are two types of sampling. They are:"
   ]
  },
  {
   "cell_type": "markdown",
   "id": "b3ce224a",
   "metadata": {},
   "source": [
    "1.Probability sampling 2.Non-probability sampling"
   ]
  },
  {
   "cell_type": "markdown",
   "id": "68bdd340",
   "metadata": {},
   "source": [
    "# Probability Sampling"
   ]
  },
  {
   "cell_type": "markdown",
   "id": "3e31d9fe",
   "metadata": {},
   "source": [
    "In probability sampling, the population units cannot be selected at the discretion of the researcher. This can be dealt with following certain procedures which will ensure that every unit of the population consists of one fixed probability being included in the sample. Such a method is also called random sampling. Some of the techniques used for probability sampling are:\n",
    "\n",
    "1.Simple random sampling 2.Cluster sampling 3.Stratified Sampling 4.Disproportionate sampling 5.Proportionate sampling 6.Optimum allocation stratified sampling 7.Multi-stage sampling"
   ]
  },
  {
   "cell_type": "markdown",
   "id": "332ebc05",
   "metadata": {},
   "source": [
    "# Non Probability Sampling"
   ]
  },
  {
   "cell_type": "markdown",
   "id": "36ca3a3a",
   "metadata": {},
   "source": [
    "In non-probability sampling, the population units can be selected at the discretion of the researcher. Those samples will use the human judgements for selecting units and has no theoretical basis for estimating the characteristics of the population. Some of the techniques used for non-probability sampling are\n",
    "\n",
    "Quota sampling Judgement sampling Purposive sampling"
   ]
  },
  {
   "cell_type": "markdown",
   "id": "5bf5ab97",
   "metadata": {},
   "source": [
    "# Population and Sample Examples"
   ]
  },
  {
   "cell_type": "markdown",
   "id": "2b265b35",
   "metadata": {},
   "source": [
    "All the people who have the ID proofs is the population and a group of people who only have voter id with them is the sample. All the students in the class are population whereas the top 10 students in the class are the sample. All the members of the parliament is population and the female candidates present there is the sample."
   ]
  },
  {
   "cell_type": "markdown",
   "id": "045e4cf6",
   "metadata": {},
   "source": [
    "# Types of data"
   ]
  },
  {
   "cell_type": "markdown",
   "id": "e7f59f93",
   "metadata": {},
   "source": [
    "# 1. Data type"
   ]
  },
  {
   "cell_type": "markdown",
   "id": "96c100e1",
   "metadata": {},
   "source": [
    "# type 1 (cross sectional, time series)"
   ]
  },
  {
   "cell_type": "markdown",
   "id": "c735c53b",
   "metadata": {},
   "source": [
    "Cross-sectional data refer to observations of many different individuals (subjects, objects) at a given time, each observation belonging to a different individual. Example: gross annual income for each of 1000 randomly chosen households in India for the year 2000.\n",
    "\n",
    "A time series data is the set of measurements taking place in a constant interval of time, here time acts as independent variable and the objective ( to study changes in a characteristics) is dependent variables. Example: Sales on daily basis"
   ]
  },
  {
   "cell_type": "markdown",
   "id": "85534b39",
   "metadata": {},
   "source": [
    "# Time series data: A set of observations contains values, taken by variable at different times."
   ]
  },
  {
   "cell_type": "markdown",
   "id": "fc8f3164",
   "metadata": {},
   "source": [
    "# Cross-sectional data: Data values of one or more variables, gathered at the same time-point."
   ]
  },
  {
   "cell_type": "markdown",
   "id": "7f90e505",
   "metadata": {},
   "source": [
    "# type 2 (univariate, multivariate)"
   ]
  },
  {
   "cell_type": "markdown",
   "id": "a5895603",
   "metadata": {},
   "source": [
    "univariate: Univariate is used to describe a type of data which consists of observations on only a single characteristic or attribute. Example: salaries of an employee in Company.\n",
    "\n",
    "multivariate: multivariate is used to describe a type of data which consists of observations on two or more characteristic or attribute.Examples: name,Department,YoE,Salary of an employee in Company."
   ]
  },
  {
   "cell_type": "markdown",
   "id": "0ac03c0b",
   "metadata": {},
   "source": [
    "# 2. Variable types (categorical, ordinal, ratio, interval)"
   ]
  },
  {
   "cell_type": "markdown",
   "id": "b72d12a9",
   "metadata": {},
   "source": [
    "Categorical: Categorical variables are usually represented as ‘strings’ or ‘categories’ and are finite in number. Examples:1.The city where a person lives: Delhi, Mumbai, Ahmedabad, Bangalore, etc.2.The department a person works in: Finance, Human resources, IT, Production.\n",
    "\n",
    "Nominal Data: Nominal Data can not be place in any order or quantitative value. Example: Gender (Male, Female, Others)\n",
    "\n",
    "Ordinal data: Ordinal data have natural ordering where a number is present in some kind of order by their position on the scale. Example: Pclass (First Class, Second Class, Third Class)\n",
    "\n",
    "Quantitative Data- Quantitative data can be expressed in numerical values, making it countable and including statistical data analysis. These kinds of data are also known as Numerical data. Example: Age of a person.\n",
    "\n",
    "Discrete Data: The discrete data contain the values that fall under integers or whole numbers. These data can’t be broken into decimal or fraction values. Example: The total number of students in a class.\n",
    "\n",
    "Continuous data: Continuous data are in the form of fractional numbers. Continuous data represents information that can be divided into smaller levels. The continuous variable can take any value within a range. Example: the height of a person, the length of an object.\n",
    "\n",
    "Ratio data: Ratio data is a form of quantitative (numeric) data. It measures variables on a continuous scale, with an equal distance between adjacent values. ratio data is all about measuring continuous variables on equidistant scales. ratio data can never have a negative value. Examples: Height (5ft. 8in., 5ft. 9in., 5ft. 10in., 5ft. 11in., 6ft. 0in. etc.), Price of item (0, 5, 10, 15, 20, 30, etc.)\n",
    "\n",
    "interval: Interval data is a type of quantitative (numerical) data. It groups variables into categories and always uses some kind of ordered scale. Furthermore, interval values are always ordered and separated using an equal measure of distance."
   ]
  },
  {
   "cell_type": "markdown",
   "id": "5df7eaa6",
   "metadata": {},
   "source": [
    "# Exercise: consider the Titanic dataset identify all tpes of datas."
   ]
  },
  {
   "cell_type": "markdown",
   "id": "991f8d6e",
   "metadata": {},
   "source": [
    "# Key terminologies in Statistics"
   ]
  },
  {
   "cell_type": "markdown",
   "id": "839d4c34",
   "metadata": {},
   "source": [
    "# Probability (Basic concepts)"
   ]
  },
  {
   "cell_type": "markdown",
   "id": "08e8df4c",
   "metadata": {},
   "source": [
    "# Probability: Probability tells how likely is the event to occur. The value of Probability always lies between 0 to 1. It is the core concept as well as a primary prerequisite to understanding the ML models and their applications.\n"
   ]
  },
  {
   "cell_type": "markdown",
   "id": "dd6e9d5c",
   "metadata": {},
   "source": [
    "# Probability can be calculated by the number of times the event occurs divided by the total number of possible outcomes. Let's suppose we tossed a coin, then the probability of getting head as a possible outcome can be calculated as below formula:\n"
   ]
  },
  {
   "cell_type": "markdown",
   "id": "29490368",
   "metadata": {},
   "source": [
    "# P (H) = Number of ways to head occur/ total number of possible outcomes"
   ]
  },
  {
   "cell_type": "code",
   "execution_count": null,
   "id": "8842cf5a",
   "metadata": {},
   "outputs": [],
   "source": []
  }
 ],
 "metadata": {
  "kernelspec": {
   "display_name": "Python 3 (ipykernel)",
   "language": "python",
   "name": "python3"
  },
  "language_info": {
   "codemirror_mode": {
    "name": "ipython",
    "version": 3
   },
   "file_extension": ".py",
   "mimetype": "text/x-python",
   "name": "python",
   "nbconvert_exporter": "python",
   "pygments_lexer": "ipython3",
   "version": "3.9.12"
  }
 },
 "nbformat": 4,
 "nbformat_minor": 5
}
